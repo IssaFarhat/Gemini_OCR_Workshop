{
 "cells": [
  {
   "cell_type": "markdown",
   "metadata": {},
   "source": [
    "# Initializations"
   ]
  },
  {
   "cell_type": "code",
   "execution_count": 1,
   "metadata": {},
   "outputs": [],
   "source": [
    "from PIL import Image\n",
    "from google import genai\n",
    "import os\n",
    "import json\n",
    "import re\n",
    "import pathlib\n",
    "from google.genai import types\n",
    "import fitz  # PyMuPDF\n",
    "import io"
   ]
  },
  {
   "cell_type": "code",
   "execution_count": 2,
   "metadata": {},
   "outputs": [],
   "source": [
    "models = [\n",
    "    \"gemini-2.0-flash\",\n",
    "    \"gemini-2.0-pro-exp-02-05\",\n",
    "    \"gemini-2.5-pro-exp-03-25\"\n",
    "]"
   ]
  },
  {
   "cell_type": "code",
   "execution_count": 6,
   "metadata": {},
   "outputs": [],
   "source": [
    "api_key = os.environ.get(\"GEMINI_API_KEY\")\n",
    "client = genai.Client(api_key=api_key)"
   ]
  },
  {
   "cell_type": "code",
   "execution_count": 9,
   "metadata": {},
   "outputs": [],
   "source": [
    "pdf2 = \"Capacity-Aware_Inference_Mitigating_the_Straggler_Effect_in_Mixture_of_Experts.pdf\"\n",
    "pdf1 = \"Mixture_of_Modular_Experts_Distilling_Knowledge_from_a_Multilingual_Teacher_into_Specialized_Modular_Language_Models.pdf\""
   ]
  },
  {
   "cell_type": "code",
   "execution_count": 10,
   "metadata": {},
   "outputs": [],
   "source": [
    "pdf1_filepath = pathlib.Path(pdf1)\n",
    "pdf2_filepath = pathlib.Path(pdf2)"
   ]
  },
  {
   "cell_type": "markdown",
   "metadata": {},
   "source": [
    "# Let's Call Gemini!\n",
    "- Practice Calling the Gemini API:\n",
    "    - Single Call\n",
    "    - Chat\n",
    "    - PDF"
   ]
  },
  {
   "cell_type": "code",
   "execution_count": 12,
   "metadata": {},
   "outputs": [
    {
     "name": "stdout",
     "output_type": "stream",
     "text": [
      "Alright, let's break down how AI works.  It's a broad topic, so I'll give you a general overview, then we can dive deeper into specific areas if you're interested.\n",
      "\n",
      "**The Core Idea:**\n",
      "\n",
      "At its heart, AI is about creating machines that can perform tasks that typically require human intelligence.  These tasks include:\n",
      "\n",
      "*   **Learning:** Acquiring information and rules for using the information.\n",
      "*   **Reasoning:** Using rules to reach conclusions (both exact and approximate).\n",
      "*   **Problem Solving:** Identifying and solving problems.\n",
      "*   **Perception:** Recognizing objects, sounds, speech, and other inputs.\n",
      "*   **Understanding Natural Language:** Processing and understanding human language.\n",
      "\n",
      "**Key Components & Approaches:**\n",
      "\n",
      "AI achieves these feats through a variety of techniques, but here are some of the most fundamental:\n",
      "\n",
      "1.  **Algorithms:**\n",
      "\n",
      "    *   These are the step-by-step instructions that tell the computer how to perform a task. They are the backbone of AI systems. Think of them as recipes.\n",
      "\n",
      "2.  **Data:**\n",
      "\n",
      "    *   AI thrives on data. The more data an AI system has, the better it can learn and improve.  This data can be in the form of text, images, audio, video, or any other structured information. Data acts as the ingredients for AI systems.\n",
      "\n",
      "3.  **Machine Learning (ML):**\n",
      "\n",
      "    *   This is a subset of AI where systems *learn from data without being explicitly programmed*.  Instead of someone writing rules for every possible scenario, the algorithm identifies patterns and makes predictions based on the data it's trained on.\n",
      "    *   **Types of Machine Learning:**\n",
      "        *   **Supervised Learning:** The algorithm is trained on a labeled dataset (e.g., images labeled as \"cat\" or \"dog\"). It learns to predict the correct label for new, unseen data.\n",
      "        *   **Unsupervised Learning:** The algorithm is trained on an unlabeled dataset and tries to find patterns or structures within the data (e.g., clustering customers into different groups based on their purchasing behavior).\n",
      "        *   **Reinforcement Learning:** The algorithm learns by interacting with an environment and receiving rewards or penalties for its actions. It tries to learn the optimal strategy to maximize its rewards (e.g., training a robot to navigate a maze).\n",
      "\n",
      "4.  **Deep Learning (DL):**\n",
      "\n",
      "    *   A subfield of machine learning that uses artificial neural networks with many layers (hence \"deep\"). These networks are inspired by the structure of the human brain.\n",
      "    *   **Neural Networks:**  These are complex interconnected networks of nodes (artificial neurons) that process information.  Each connection between neurons has a weight associated with it, which is adjusted during the learning process. The more layers, the more complex the relationship the network can discover.\n",
      "    *   Deep learning is particularly effective for tasks like image recognition, natural language processing, and speech recognition.\n",
      "\n",
      "5.  **Natural Language Processing (NLP):**\n",
      "\n",
      "    *   Focuses on enabling computers to understand, interpret, and generate human language.\n",
      "    *   **Techniques used in NLP:**\n",
      "        *   **Tokenization:** Breaking down text into individual words or units.\n",
      "        *   **Parsing:** Analyzing the grammatical structure of sentences.\n",
      "        *   **Sentiment Analysis:** Determining the emotional tone of text.\n",
      "        *   **Machine Translation:** Automatically translating text from one language to another.\n",
      "\n",
      "6.  **Computer Vision:**\n",
      "\n",
      "    *   Enables computers to \"see\" and interpret images and videos.\n",
      "    *   **Techniques used in Computer Vision:**\n",
      "        *   **Image Recognition:** Identifying objects in an image.\n",
      "        *   **Object Detection:** Locating and identifying multiple objects in an image.\n",
      "        *   **Image Segmentation:** Dividing an image into different regions.\n",
      "\n",
      "7.  **Rule-Based Systems (Expert Systems):**\n",
      "\n",
      "    *   Older approach to AI where knowledge is encoded in a set of \"if-then\" rules.\n",
      "    *   These systems are good for tasks where the rules are well-defined and the domain is limited.\n",
      "    *   Example: A medical diagnosis system that asks a series of questions and uses rules to determine the most likely diagnosis.\n",
      "\n",
      "**The Learning Process (Simplified):**\n",
      "\n",
      "1.  **Data Collection:** Gather a large dataset relevant to the task.\n",
      "2.  **Data Preparation:** Clean and preprocess the data.  This often involves removing errors, handling missing values, and transforming the data into a suitable format.\n",
      "3.  **Model Selection:** Choose an appropriate AI model or algorithm (e.g., a neural network, a decision tree, a support vector machine).\n",
      "4.  **Training:** Feed the data into the model, and the model adjusts its internal parameters to learn the patterns and relationships in the data.  This is often an iterative process that involves repeatedly showing the model the data and refining its parameters until it achieves a desired level of accuracy.\n",
      "5.  **Evaluation:** Test the model on a separate dataset to evaluate its performance and ensure it generalizes well to unseen data.\n",
      "6.  **Deployment:** Deploy the trained model into a real-world application.\n",
      "7.  **Monitoring and Retraining:** Continuously monitor the model's performance and retrain it with new data to maintain its accuracy and relevance.\n",
      "\n",
      "**Example: Image Recognition (Classifying Images as Cats or Dogs):**\n",
      "\n",
      "1.  **Data:** A large dataset of images, each labeled as either \"cat\" or \"dog.\"\n",
      "2.  **Model:** A convolutional neural network (CNN), a type of deep learning model well-suited for image recognition.\n",
      "3.  **Training:** The CNN is fed the images, and it learns to identify features that are characteristic of cats and dogs (e.g., pointy ears, whiskers, snout shape).\n",
      "4.  **Prediction:** When presented with a new image, the CNN analyzes its features and predicts whether it's a cat or a dog.\n",
      "\n",
      "**Levels of AI:**\n",
      "\n",
      "*   **Narrow or Weak AI:** Designed to perform a specific task (e.g., playing chess, recognizing faces).  Most AI systems today fall into this category.\n",
      "*   **General or Strong AI:** Possesses human-level intelligence and can perform any intellectual task that a human being can.  This is still largely theoretical.\n",
      "*   **Super AI:** Surpasses human intelligence in all aspects. Also theoretical and raises ethical concerns.\n",
      "\n",
      "**Key Takeaways:**\n",
      "\n",
      "*   AI is about making machines that can perform tasks requiring intelligence.\n",
      "*   It uses algorithms, data, and various techniques like machine learning, deep learning, NLP, and computer vision.\n",
      "*   Machine learning allows systems to learn from data without explicit programming.\n",
      "*   Deep learning utilizes artificial neural networks with multiple layers.\n",
      "*   AI is constantly evolving, with new techniques and applications emerging all the time.\n",
      "\n",
      "**Where do you want to go next?  We can delve into:**\n",
      "\n",
      "*   A specific type of machine learning algorithm (e.g., neural networks, decision trees).\n",
      "*   A particular application of AI (e.g., self-driving cars, medical diagnosis, fraud detection).\n",
      "*   The ethical considerations of AI.\n",
      "*   The history of AI.\n",
      "*   The programming languages used in AI (e.g. Python, R).\n",
      "\n"
     ]
    }
   ],
   "source": [
    "response = client.models.generate_content(\n",
    "    model=models[1],\n",
    "    contents=[\"How does AI work?\"]\n",
    ")\n",
    "print(response.text)"
   ]
  },
  {
   "cell_type": "markdown",
   "metadata": {},
   "source": [
    "# Time to Convert the PDF to Markdown\n",
    "- Write Prompt\n",
    "- Call Gemini with Prompt\n",
    "- Refine Prompts and Repeat Until Satisfactory"
   ]
  },
  {
   "cell_type": "code",
   "execution_count": null,
   "metadata": {},
   "outputs": [],
   "source": []
  },
  {
   "cell_type": "markdown",
   "metadata": {},
   "source": [
    "# Satisfactory Results? Let's Polish Them with Images\n",
    "- save_to_markdown\n",
    "- parse_markdown\n",
    "- parse_out_markdown_tildas\n",
    "- pdf_page_to_image\n",
    "- parse_bbs\n",
    "- extract_images\n",
    "- etract_all_images\n",
    "- save_extracted_images\n",
    "- insert_images_into_markdown\n"
   ]
  }
 ],
 "metadata": {
  "kernelspec": {
   "display_name": ".venv",
   "language": "python",
   "name": "python3"
  },
  "language_info": {
   "codemirror_mode": {
    "name": "ipython",
    "version": 3
   },
   "file_extension": ".py",
   "mimetype": "text/x-python",
   "name": "python",
   "nbconvert_exporter": "python",
   "pygments_lexer": "ipython3",
   "version": "3.12.8"
  }
 },
 "nbformat": 4,
 "nbformat_minor": 2
}
